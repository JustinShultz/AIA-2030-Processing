{
    "cells": [
        {
            "cell_type": "markdown",
            "metadata": {},
            "source": [
                "# Convert Page 2030 Reporting Spreadsheet into DDX Bulk Upload File"
            ]
        },
        {
            "cell_type": "markdown",
            "metadata": {},
            "source": [
                "### Import modules "
            ]
        },
        {
            "cell_type": "code",
            "execution_count": null,
            "metadata": {},
            "outputs": [],
            "source": [
                "import pandas as pd\n",
                "import numpy as np\n",
                "\n",
                "pd.set_option('display.max_rows', 500)\n",
                "\n",
                "# Set the display option to show all columns (None means no limit)\n",
                "pd.set_option('display.max_columns', None)\n"
            ]
        },
        {
            "cell_type": "code",
            "execution_count": null,
            "metadata": {},
            "outputs": [],
            "source": [
                "def column_check(x):\n",
                "    if 'unnamed' in x.lower():\n",
                "        return False\n",
                "    if 'priority' in x.lower():\n",
                "        return False\n",
                "    if 'order' in x.lower():\n",
                "        return True\n",
                "    return True"
            ]
        },
        {
            "cell_type": "code",
            "execution_count": null,
            "metadata": {},
            "outputs": [],
            "source": [
                "orderedColumns = ['Project name',\n",
                "'Project number',\n",
                "'Project status',\n",
                "'Project type',\n",
                "'Construction type',\n",
                "'Office location',\n",
                "'Country',\n",
                "'State',\n",
                "'City',\n",
                "'Postal code',\n",
                "'Climate zone',\n",
                "'Use type 1',\n",
                "'Use type area 1',\n",
                "'Use type 2',\n",
                "'Use type area 2',\n",
                "'Unit',\n",
                "'Estimated occupancy year',\n",
                "'Energy code',\n",
                "'Energy baseline',\n",
                "'Energy baseline source',\n",
                "'Energy target',\n",
                "'Reporting phase',\n",
                "'Reporting year',\n",
                "'Net pEUI',\n",
                "'Predicted LPD',\n",
                "'Energy modeling tool',\n",
                "'Other modeling tool name',\n",
                "'Energy modeling party',\n",
                "'Energy modeled date',\n",
                "'Energy modeling cost',\n",
                "'Predicted embodied carbon',\n",
                "'Embodied carbon date',\n",
                "'Carbon modeling tool',\n",
                "'Other carbon modeling tool name',\n",
                "'Carbon modeling tool version',\n",
                "'Carbon modeling time',\n",
                "'Carbon modeling scopes',\n",
                "'Carbon modeling LCA stages',\n",
                "'Has biogenic carbon',\n",
                "'Biogenic carbon description',\n",
                "'Onsite renewables',\n",
                "'Window/Wall ratio',\n",
                "'Grid electricity',\n",
                "'Gas',\n",
                "'District',\n",
                "'Electricity from on-site renewables',\n",
                "'Electricity from purchased off-site renewables',\n",
                "'Electricity from dedicated off-site renewables']"
            ]
        },
        {
            "cell_type": "markdown",
            "metadata": {},
            "source": [
                "### Import Data and Create dataframe"
            ]
        },
        {
            "cell_type": "code",
            "execution_count": null,
            "metadata": {},
            "outputs": [],
            "source": [
                "data = pd.read_excel('ScriptingDataCopy.xlsx', sheet_name='Project Data', header=1, skiprows=[2,3,4,5], usecols=column_check, dtype=object)"
            ]
        },
        {
            "cell_type": "markdown",
            "metadata": {},
            "source": [
                "#### Check Imported Data"
            ]
        },
        {
            "cell_type": "code",
            "execution_count": null,
            "metadata": {},
            "outputs": [],
            "source": [
                "data.head()"
            ]
        },
        {
            "cell_type": "code",
            "execution_count": null,
            "metadata": {},
            "outputs": [],
            "source": [
                "data.info()"
            ]
        },
        {
            "cell_type": "code",
            "execution_count": null,
            "metadata": {},
            "outputs": [],
            "source": [
                "# for col in data.columns:\n",
                "#     print(col)"
            ]
        },
        {
            "cell_type": "code",
            "execution_count": null,
            "metadata": {},
            "outputs": [],
            "source": [
                "data.shape"
            ]
        },
        {
            "cell_type": "markdown",
            "metadata": {},
            "source": [
                "### Filter projects with `Reporting status` set to `Ready for DDX`"
            ]
        },
        {
            "cell_type": "code",
            "execution_count": null,
            "metadata": {},
            "outputs": [],
            "source": [
                "ready_data = data[data['Reporting status']=='Ready for DDx']\n",
                "ready_data.shape"
            ]
        },
        {
            "cell_type": "code",
            "execution_count": null,
            "metadata": {},
            "outputs": [],
            "source": [
                "# ready_data[ready_data['Predicted LPD'] == 0]['Predicted LPD'] = None"
            ]
        },
        {
            "cell_type": "markdown",
            "metadata": {},
            "source": [
                "### Correct Postal code"
            ]
        },
        {
            "cell_type": "code",
            "execution_count": null,
            "metadata": {},
            "outputs": [],
            "source": [
                "# ready_data['Postal code'] = ready_data[(ready_data['Postal code']<5) & (ready_data['Country']==\"United States\")].astype(str).str.zfill(5)\n",
                "ready_data.loc[ready_data['Country'] == 'United States', 'Postal code'] = ready_data.loc[ready_data['Country'] == 'United States', 'Postal code'].astype(str).str.zfill(5)"
            ]
        },
        {
            "cell_type": "code",
            "execution_count": null,
            "metadata": {},
            "outputs": [],
            "source": [
                "# print(ready_data['Postal code'])"
            ]
        },
        {
            "cell_type": "code",
            "execution_count": null,
            "metadata": {},
            "outputs": [],
            "source": [
                "def fixPostalCode(x):\n",
                "    if len(x) < 5 and len(x) > 3:\n",
                "        return '0'+x\n",
                "    else:\n",
                "        return x"
            ]
        },
        {
            "cell_type": "code",
            "execution_count": null,
            "metadata": {},
            "outputs": [],
            "source": [
                "# ready_data['Postal code'] = ready_data['Postal code'].apply(str).map(fixPostalCode)\n",
                "# ready_data['Energy modeled date'] = pd.to_datetime(ready_data['Energy modeled date'])"
            ]
        },
        {
            "cell_type": "markdown",
            "metadata": {},
            "source": [
                "### Correct datetime"
            ]
        },
        {
            "cell_type": "code",
            "execution_count": null,
            "metadata": {},
            "outputs": [],
            "source": [
                "ready_data['Energy modeled date'] = pd.to_datetime(ready_data['Energy modeled date'],errors='coerce')\n",
                "ready_data['Energy modeled date'] = ready_data['Energy modeled date'].dt.date\n",
                "# print(ready_data['Energy modeled date'])"
            ]
        },
        {
            "cell_type": "code",
            "execution_count": null,
            "metadata": {},
            "outputs": [],
            "source": [
                "ready_data['Embodied carbon date'] = pd.to_datetime(ready_data['Embodied carbon date'], errors='coerce')\n",
                "ready_data['Embodied carbon date'] = ready_data['Embodied carbon date'].dt.date\n",
                "# print(ready_data['Embodied carbon date'])"
            ]
        },
        {
            "cell_type": "markdown",
            "metadata": {},
            "source": [
                "### Remove Trailing Spaces"
            ]
        },
        {
            "cell_type": "code",
            "execution_count": null,
            "metadata": {},
            "outputs": [],
            "source": [
                "ready_data['Country'] = ready_data['Country'].str.rstrip()\n",
                "ready_data['State'] = ready_data['State'].str.rstrip()\n",
                "ready_data['City'] = ready_data['City'].str.rstrip()"
            ]
        },
        {
            "cell_type": "markdown",
            "metadata": {},
            "source": [
                "### Reorder dataframe to Match DDX Bulk Upload"
            ]
        },
        {
            "cell_type": "code",
            "execution_count": null,
            "metadata": {},
            "outputs": [],
            "source": [
                "ready_data['Unit'] = 'IP'\n",
                "# ready_data['Reporting year'] = 2022\n",
                "# data = data.reindex(columns=orderedColumns)\n",
                "ordered_data = ready_data[orderedColumns]"
            ]
        },
        {
            "cell_type": "markdown",
            "metadata": {},
            "source": [
                "#### Check dataframe"
            ]
        },
        {
            "cell_type": "code",
            "execution_count": null,
            "metadata": {},
            "outputs": [],
            "source": [
                "ordered_data.info()"
            ]
        },
        {
            "cell_type": "code",
            "execution_count": null,
            "metadata": {},
            "outputs": [],
            "source": [
                "# ordered_data = ordered_data.drop(['Reporting status'], axis=1)"
            ]
        },
        {
            "cell_type": "code",
            "execution_count": null,
            "metadata": {},
            "outputs": [],
            "source": [
                "ordered_data.head()"
            ]
        },
        {
            "cell_type": "code",
            "execution_count": null,
            "metadata": {},
            "outputs": [],
            "source": [
                "ordered_data.shape"
            ]
        },
        {
            "cell_type": "markdown",
            "metadata": {},
            "source": [
                "### Correct Gas Units to THERMS, rather than kBtu"
            ]
        },
        {
            "cell_type": "code",
            "execution_count": null,
            "metadata": {},
            "outputs": [],
            "source": [
                "# ordered_data = ordered_data[ordered_data['Gas'] > 0]\n",
                "ordered_data['Gas'] = pd.to_numeric(ordered_data['Gas'], errors='coerce')\n",
                "# ordered_data.loc[ordered_data['Gas'] > 0] = ordered_data.loc[ordered_data['Gas'] > 0]/100\n",
                "ordered_data['Gas'] = ordered_data['Gas']/100\n",
                "ordered_data.shape"
            ]
        },
        {
            "cell_type": "markdown",
            "metadata": {},
            "source": [
                "### Export dataframe as Excel File for Bulk Upload"
            ]
        },
        {
            "cell_type": "code",
            "execution_count": null,
            "metadata": {},
            "outputs": [],
            "source": [
                "# ordered_data.to_excel('DDx Bulk Import 2023 Portfolio_20240415.xlsx', index=False)\n",
                "ordered_data.to_excel('DDx Bulk Import 2023 Portfolio_20240415_Batch2.xlsx', index=False)"
            ]
        }
    ],
    "metadata": {
        "interpreter": {
            "hash": "ad5864f56b9468bc1f0b6fefcee62edaf7f96ab9f6e9ae38690d443c98662615"
        },
        "kernelspec": {
            "display_name": "Python 3.9.13 64-bit",
            "name": "python3"
        },
        "language_info": {
            "codemirror_mode": {
                "name": "ipython",
                "version": 3
            },
            "file_extension": ".py",
            "mimetype": "text/x-python",
            "name": "python",
            "nbconvert_exporter": "python",
            "pygments_lexer": "ipython3",
            "version": "3.11.9"
        },
        "orig_nbformat": 4
    },
    "nbformat": 4,
    "nbformat_minor": 2
}
